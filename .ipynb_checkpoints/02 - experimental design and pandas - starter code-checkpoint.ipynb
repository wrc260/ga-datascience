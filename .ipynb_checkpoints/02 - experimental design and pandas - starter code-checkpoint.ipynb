{
 "cells": [
  {
   "cell_type": "markdown",
   "metadata": {},
   "source": [
    "# Lesson 2: Experimental design and pandas\n",
    "## Starter code for guided practice & demos"
   ]
  },
  {
   "cell_type": "markdown",
   "metadata": {},
   "source": [
    "## Anyone not installed pre-requisites?\n",
    "- Go to tmpnb.org.\n",
    "- Select New > Python 2 to create a Python notebook.\n",
    "```\n",
    ">>> import pandas\n",
    ">>> import sklearn\n",
    ">>> import matplotlib\n",
    "```\n",
    "\n",
    "## Intro to Anaconda, IPython and notebooks"
   ]
  },
  {
   "cell_type": "markdown",
   "metadata": {},
   "source": [
    "### What is Anaconda?\n",
    "\n",
    "Anaconda is \"Completely free enterprise-ready Python distribution for large-scale data processing, predictive analytics, and scientific computing.\" What this really means:\n",
    "\n",
    "* It's a prepackaged version of Python\n",
    "* It includes (mostly) everything that a data scientist would need from Python\n",
    "* It's free!"
   ]
  },
  {
   "cell_type": "markdown",
   "metadata": {},
   "source": [
    "### What is IPython and Notebook?\n",
    "Anaconda comes with two \"versions\" (repls) of python: ipython qt (cutie) console, and Jupyter (which has replaced Notebook). We'll primarily learn and use Notebook today, which is a great tool for data exploration and analysis, and keeping your thoughts organized. \n",
    "\n",
    "#### Starting Notebook\n",
    "\n",
    "Find Anaconda's Launcher app, and open it. It'll open something like the following:\n",
    "\n",
    "<img src='https://s3.amazonaws.com/f.cl.ly/items/2Y051r3v3a3Y2l0J3u0c/Screen%20Shot%202015-04-12%20at%202.11.32%20AM.png' style='width: 100%' />\n",
    "\n",
    "Click on the ipython-notebook \"launch button,\" which will open a shell window that will then start the notebook. Please leave this window open until you are done with the notebook!\n",
    "\n",
    "<img src='https://s3.amazonaws.com/f.cl.ly/items/0z0e0L0R1m1M191j013M/Screen%20Shot%202015-04-12%20at%202.13.57%20AM.png' style='width: 100%' />\n",
    "\n",
    "Notebook runs as a _server_ on your computer, so it will open a window in your internet browser. Under the \"new\" button, click \"Python 2\" and you're good to go!\n",
    "\n",
    "**Note, if you installed Python 3, that should be okay, but be aware that some of today's material may not work.**\n",
    "\n",
    "Finally, you'll come to your notebook for today:\n",
    "\n",
    "<img src='https://s3.amazonaws.com/f.cl.ly/items/0u1b3D24281K1R0V3j1k/Screen%20Shot%202015-04-12%20at%202.16.45%20AM.png' style='width: 100%' />\n",
    "\n",
    "We'll be using the following practices to take advantage of the various parts of notebook:\n",
    "\n",
    "* the \"code\" cell allows us to run python code. It'll allow us to write multiple lines of code at a time.\n",
    "* the \"markdown\" cell allows us to save text, add images, etc. \n",
    "\n",
    "With these two cell types we'll take notes for the workshop today, using the following steps:\n",
    "\n",
    "1. Always include a markdown cell above code. Write notes how you'd usually write notes related to code below.\n",
    "2. With code, for those completely fresh to programming, we'll be \"commenting through the code.\" That just means for each line of code there will be a python comment that breaks down each line."
   ]
  },
  {
   "cell_type": "markdown",
   "metadata": {},
   "source": [
    "#### Check to see if you're ready to go!\n",
    "    1. Run each block of code\n",
    "    2. Check for errors\n",
    "    3. When you think you're error free, flag down a teaching team member to confirm"
   ]
  },
  {
   "cell_type": "code",
   "execution_count": null,
   "metadata": {
    "collapsed": false
   },
   "outputs": [],
   "source": [
    "####This is what an error looks like\n",
    "print a"
   ]
  },
  {
   "cell_type": "markdown",
   "metadata": {},
   "source": [
    "## Objectives\n",
    "1. How to start Jupyter Notebook\n",
    "2. Get comfortable with Jupyter Notebook\n",
    "3. How to read data into pandas\n",
    "4. How to do simple manipulations on pandas dataframes\n",
    "\n",
    "\n",
    "## Start a notebook\n",
    "For each class, we'll be using a set of common data science libraries and tools, like the Jupyter Notebook. You can start a Jupyter notebook from Anaconda Navigator, or by running\n",
    "\n",
    "```\n",
    "jupyter notebook\n",
    "```\n",
    "\n",
    "## Try it yourself!\n",
    "Read and run the block of code below by: \n",
    "1. Clicking on it and pressing the play button above or\n",
    "2. Using a short cut (help --> keyboard shortcuts)"
   ]
  },
  {
   "cell_type": "code",
   "execution_count": null,
   "metadata": {
    "collapsed": true
   },
   "outputs": [],
   "source": [
    "#import matplotlib.pyplot as plt\n",
    "import pandas as pd\n",
    "%matplotlib inline"
   ]
  },
  {
   "cell_type": "markdown",
   "metadata": {},
   "source": [
    "## Basic Data Types: Strings, Lists, Tuples\n",
    "Try the same thing on your own to learn about the following python objects: strings, lists, and tuples."
   ]
  },
  {
   "cell_type": "code",
   "execution_count": null,
   "metadata": {
    "collapsed": false
   },
   "outputs": [],
   "source": [
    "some_string1 = 'apples'\n",
    "some_string2 = 'and'\n",
    "some_string3 = 'bananas'\n",
    "print some_string1, some_string2, some_string3\n",
    "print some_string1 + some_string2 + some_string3\n",
    "print some_string1[0:5]"
   ]
  },
  {
   "cell_type": "code",
   "execution_count": null,
   "metadata": {
    "collapsed": false
   },
   "outputs": [],
   "source": [
    "a = [3 for i in range(10)]\n",
    "print a"
   ]
  },
  {
   "cell_type": "markdown",
   "metadata": {},
   "source": [
    "## Dictionaries"
   ]
  },
  {
   "cell_type": "code",
   "execution_count": null,
   "metadata": {
    "collapsed": false
   },
   "outputs": [],
   "source": [
    "some_dict = {\n",
    "    'title': 'Data Science',\n",
    "    'start_time': 18,\n",
    "    'instructor': {'name': 'John', 'location': 'London'},\n",
    "    'coordinates': [51.52018, -0.07078]\n",
    "}\n",
    "some_dict"
   ]
  },
  {
   "cell_type": "code",
   "execution_count": null,
   "metadata": {
    "collapsed": false
   },
   "outputs": [],
   "source": [
    "some_dict['coordinates'][0]"
   ]
  },
  {
   "cell_type": "code",
   "execution_count": null,
   "metadata": {
    "collapsed": true
   },
   "outputs": [],
   "source": [
    "some_dict['campus'] = 'Shoreditch'"
   ]
  },
  {
   "cell_type": "code",
   "execution_count": null,
   "metadata": {
    "collapsed": false
   },
   "outputs": [],
   "source": [
    "some_dict"
   ]
  },
  {
   "cell_type": "markdown",
   "metadata": {},
   "source": [
    "## If-else"
   ]
  },
  {
   "cell_type": "code",
   "execution_count": null,
   "metadata": {
    "collapsed": false
   },
   "outputs": [],
   "source": [
    "x = False\n",
    "y = True\n",
    "\n",
    "if x:\n",
    "    print 'apple'\n",
    "elif y:\n",
    "    print 'banana'\n",
    "else:\n",
    "    print 'sandwich'"
   ]
  },
  {
   "cell_type": "markdown",
   "metadata": {},
   "source": [
    "## For loops"
   ]
  },
  {
   "cell_type": "code",
   "execution_count": null,
   "metadata": {
    "collapsed": false
   },
   "outputs": [],
   "source": [
    "for k in range(4):\n",
    "    print k**2"
   ]
  },
  {
   "cell_type": "markdown",
   "metadata": {},
   "source": [
    "## While loops"
   ]
  },
  {
   "cell_type": "code",
   "execution_count": null,
   "metadata": {
    "collapsed": false
   },
   "outputs": [],
   "source": [
    "x = 0\n",
    "while True:\n",
    "    print \"Hello!\"\n",
    "    x += 1\n",
    "    if x >= 3:\n",
    "        break"
   ]
  },
  {
   "cell_type": "markdown",
   "metadata": {},
   "source": [
    "## Functions"
   ]
  },
  {
   "cell_type": "code",
   "execution_count": null,
   "metadata": {
    "collapsed": true
   },
   "outputs": [],
   "source": [
    "def add(x, y):\n",
    "    \"\"\"Returns x + y\"\"\"\n",
    "    return x + y\n"
   ]
  },
  {
   "cell_type": "code",
   "execution_count": null,
   "metadata": {
    "collapsed": false
   },
   "outputs": [],
   "source": [
    "add(1, 3)"
   ]
  },
  {
   "cell_type": "code",
   "execution_count": null,
   "metadata": {
    "collapsed": true
   },
   "outputs": [],
   "source": [
    "?add"
   ]
  },
  {
   "cell_type": "markdown",
   "metadata": {},
   "source": [
    "## Review Python Basics\n",
    "Test your skills by answering the following questions:"
   ]
  },
  {
   "cell_type": "markdown",
   "metadata": {},
   "source": [
    "#### Question 1.  Divide 10 by 20 and set the result to a variable named \"A\""
   ]
  },
  {
   "cell_type": "code",
   "execution_count": null,
   "metadata": {
    "collapsed": true
   },
   "outputs": [],
   "source": [
    "### Insert your code here and then uncomment | print A | when you are ready to test it. \n",
    "\n",
    "#print A"
   ]
  },
  {
   "cell_type": "code",
   "execution_count": null,
   "metadata": {
    "collapsed": true
   },
   "outputs": [],
   "source": [
    "#### If you did not get a float (decimals), alter your equation to get the desired result (0.5) \n"
   ]
  },
  {
   "cell_type": "markdown",
   "metadata": {},
   "source": [
    "#### Question 2. Create a function called division that will divide any two numbers and prints the result (with decimals). \n",
    "Call your function. Confirm that the results are as expected."
   ]
  },
  {
   "cell_type": "code",
   "execution_count": null,
   "metadata": {
    "collapsed": true
   },
   "outputs": [],
   "source": [
    "#add your function here"
   ]
  },
  {
   "cell_type": "markdown",
   "metadata": {},
   "source": [
    "#### Question 3. Using .split() split my string into separate words in a variable named words"
   ]
  },
  {
   "cell_type": "code",
   "execution_count": null,
   "metadata": {
    "collapsed": true
   },
   "outputs": [],
   "source": [
    "my_string = \"the cow jumped over the moon\"\n",
    "#put your code here it should return ['the', 'cow', 'jumped', 'over', 'the', 'moon']\n",
    "\n",
    "\n",
    "#print words"
   ]
  },
  {
   "cell_type": "markdown",
   "metadata": {},
   "source": [
    "#### Question 4. How many words are in my_string?"
   ]
  },
  {
   "cell_type": "code",
   "execution_count": null,
   "metadata": {
    "collapsed": true
   },
   "outputs": [],
   "source": []
  },
  {
   "cell_type": "markdown",
   "metadata": {},
   "source": [
    "#### Question 5. Use a list comprehension to find the length of each word\n",
    "\n",
    "result: [3, 3, 6, 4, 3, 4]"
   ]
  },
  {
   "cell_type": "code",
   "execution_count": null,
   "metadata": {
    "collapsed": true
   },
   "outputs": [],
   "source": []
  },
  {
   "cell_type": "markdown",
   "metadata": {},
   "source": [
    "#### Question 6. Put the words back together in a variable called sentence using .join()\n",
    "result:\n",
    "the cow jumped over the moon"
   ]
  },
  {
   "cell_type": "code",
   "execution_count": null,
   "metadata": {
    "collapsed": true
   },
   "outputs": [],
   "source": []
  },
  {
   "cell_type": "markdown",
   "metadata": {},
   "source": [
    "#### Bonus question: Add a \"||\" between each word\n",
    "result: \n",
    "the||cow||jumped||over||the||moon"
   ]
  },
  {
   "cell_type": "code",
   "execution_count": null,
   "metadata": {
    "collapsed": true
   },
   "outputs": [],
   "source": []
  },
  {
   "cell_type": "markdown",
   "metadata": {},
   "source": [
    "## Demo: 311 Service Requests\n",
    "Check first that you have the CSV in the same folder as the .ipynb notebook."
   ]
  },
  {
   "cell_type": "code",
   "execution_count": null,
   "metadata": {
    "collapsed": true
   },
   "outputs": [],
   "source": [
    "# Read the data\n",
    "data = pd.read_csv('311-service-requests.csv', parse_dates=['Created Date'], low_memory=False)"
   ]
  },
  {
   "cell_type": "code",
   "execution_count": null,
   "metadata": {
    "collapsed": false
   },
   "outputs": [],
   "source": [
    "# Take a look\n",
    "data.head()"
   ]
  },
  {
   "cell_type": "code",
   "execution_count": null,
   "metadata": {
    "collapsed": false
   },
   "outputs": [],
   "source": [
    "# Let's view all cols\n",
    "pd.set_option('display.max_columns', 100)\n",
    "data.head()"
   ]
  },
  {
   "cell_type": "code",
   "execution_count": null,
   "metadata": {
    "collapsed": false
   },
   "outputs": [],
   "source": [
    "# Visualise data geographically using lon/lat\n",
    "pd.set_option('display.width', 4000)\n",
    "data.plot(x='Longitude',\n",
    "          y='Latitude',\n",
    "          kind='scatter',\n",
    "          s=1)"
   ]
  },
  {
   "cell_type": "markdown",
   "metadata": {},
   "source": [
    "## Graph the number of noise complaints each hour in New York"
   ]
  },
  {
   "cell_type": "code",
   "execution_count": null,
   "metadata": {
    "collapsed": false
   },
   "outputs": [],
   "source": [
    "complaints = data[['Created Date', 'Complaint Type']]\n",
    "complaints.head()"
   ]
  },
  {
   "cell_type": "code",
   "execution_count": null,
   "metadata": {
    "collapsed": false
   },
   "outputs": [],
   "source": [
    "noise_complaints = complaints[complaints['Complaint Type'] == 'Noise - Street/Sidewalk']\n",
    "noise_complaints.head()"
   ]
  },
  {
   "cell_type": "code",
   "execution_count": null,
   "metadata": {
    "collapsed": false
   },
   "outputs": [],
   "source": [
    "# This is a bit fancy\n",
    "noise_complaints.set_index('Created Date').sort_index().resample('H').count().plot()"
   ]
  }
 ],
 "metadata": {
  "anaconda-cloud": {},
  "kernelspec": {
   "display_name": "Python [default]",
   "language": "python",
   "name": "python2"
  },
  "language_info": {
   "codemirror_mode": {
    "name": "ipython",
    "version": 2
   },
   "file_extension": ".py",
   "mimetype": "text/x-python",
   "name": "python",
   "nbconvert_exporter": "python",
   "pygments_lexer": "ipython2",
   "version": "2.7.12"
  }
 },
 "nbformat": 4,
 "nbformat_minor": 1
}
