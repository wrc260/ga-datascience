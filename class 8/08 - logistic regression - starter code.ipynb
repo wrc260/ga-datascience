{
 "cells": [
  {
   "cell_type": "markdown",
   "metadata": {},
   "source": [
    "# Lesson 8: Logistic Regression\n",
    "## Starter code for guided practice & demos"
   ]
  },
  {
   "cell_type": "code",
   "execution_count": 31,
   "metadata": {
    "collapsed": false
   },
   "outputs": [],
   "source": [
    "# Imports\n",
    "import matplotlib.pyplot as plt\n",
    "import numpy as np\n",
    "import pandas as pd\n",
    "from pathlib import Path\n",
    "from sklearn.linear_model import LogisticRegression\n",
    "from sklearn.metrics import roc_curve, roc_auc_score\n",
    "%matplotlib inline\n",
    "\n",
    "# Config\n",
    "DATA_DIR = Path('../datasets')\n",
    "np.random.seed(1)"
   ]
  },
  {
   "cell_type": "markdown",
   "metadata": {},
   "source": [
    "## Slide: \"Wager those odds!\""
   ]
  },
  {
   "cell_type": "markdown",
   "metadata": {},
   "source": [
    "### Guided Practice: Logit Function and Odds"
   ]
  },
  {
   "cell_type": "code",
   "execution_count": 26,
   "metadata": {
    "collapsed": false
   },
   "outputs": [],
   "source": [
    "def logit_func(odds):\n",
    "    # uses a float (odds) and returns back the log odds (logit)\n",
    "    return np.log(odds)\n",
    "\n",
    "def sigmoid_func(logit):\n",
    "    # uses a float (logit) and returns back the probability\n",
    "    return 1 / (1+np.exp(-logit))\n",
    "\n",
    "odds_set = [\n",
    "    4./1,   # AlphaGo : Seedol,   4:1\n",
    "    20./1,  # Chelsea : Leicester City,   20:1\n",
    "    1.1/1,  # England : Wales,   1.1:1\n",
    "    7.0/4,  # Brexit : Remain,   7:4\n",
    "    17.0/3  # President Trump : Not President Trump,   3:17\n",
    "]"
   ]
  },
  {
   "cell_type": "code",
   "execution_count": 27,
   "metadata": {
    "collapsed": false
   },
   "outputs": [
    {
     "name": "stdout",
     "output_type": "stream",
     "text": [
      "[4.0, 20.0, 1.1, 1.75, 5.666666666666667]\n"
     ]
    }
   ],
   "source": [
    "print odds_set"
   ]
  },
  {
   "cell_type": "code",
   "execution_count": 28,
   "metadata": {
    "collapsed": false
   },
   "outputs": [
    {
     "name": "stdout",
     "output_type": "stream",
     "text": [
      "1.38629436112\n",
      "2.99573227355\n",
      "0.0953101798043\n",
      "0.559615787935\n",
      "1.73460105539\n"
     ]
    }
   ],
   "source": [
    "# Print the probability of the (predicted) better team winning in each case above\n",
    "for i in range(len(odds_set)):\n",
    "    print logit_func(odds_set[i])\n",
    "  "
   ]
  },
  {
   "cell_type": "code",
   "execution_count": 29,
   "metadata": {
    "collapsed": false
   },
   "outputs": [
    {
     "name": "stdout",
     "output_type": "stream",
     "text": [
      "0.8\n",
      "0.952380952381\n",
      "0.52380952381\n",
      "0.636363636364\n",
      "0.85\n"
     ]
    }
   ],
   "source": [
    "# Print the probability of the (predicted) better team winning in each case above\n",
    "for i in range(len(odds_set)):\n",
    "    print sigmoid_func(logit_func(odds_set[i]))\n",
    "  "
   ]
  },
  {
   "cell_type": "code",
   "execution_count": 30,
   "metadata": {
    "collapsed": false
   },
   "outputs": [
    {
     "data": {
      "text/plain": [
       "[0.80000000000000004,\n",
       " 0.95238095238095233,\n",
       " 0.52380952380952384,\n",
       " 0.63636363636363635,\n",
       " 0.84999999999999998]"
      ]
     },
     "execution_count": 30,
     "metadata": {},
     "output_type": "execute_result"
    }
   ],
   "source": [
    "[sigmoid_func(logit_func(odds)) for odds in odds_set]"
   ]
  },
  {
   "cell_type": "markdown",
   "metadata": {},
   "source": [
    "$ Ln{p \\over {1-p}} = \\alpha + \\beta x$ \n",
    "\n",
    "$ odds = {P \\over {1-P}} = {e^{\\alpha + \\beta x}} $\n",
    "\n",
    "when $x = 0$: $odds = e^\\alpha $\n",
    "\n",
    "when $x = 1$: $odds = {e^{\\alpha + \\beta}} = e^\\alpha e^\\beta$\n",
    "\n",
    "\n",
    "OR: $ {odds(x=1) \\over odds(x=0)} = {{e^\\alpha e^\\beta} \\over {e^\\alpha}} = {e^\\beta} $\n"
   ]
  },
  {
   "cell_type": "markdown",
   "metadata": {},
   "source": [
    "## Slide: \"Logistic regression implementation\"\n",
    "Use the data titanic.csv and the LogisticRegression estimator in sklearn to predict the target variable `survived`.\n",
    "\n",
    "1. What is the bias, or prior probability, of the dataset?\n",
    "2. Build a simple model with one feature and explore the coef_ value.  Does this represent the odds or logit (log odds)?\n",
    "3. Build a more complicated model using multiple features. Interpreting the odds, which features have the most impact on survival? Which features have the least?\n",
    "4. What is the accuracy of your model?\n",
    "\n",
    "N.B. `age` will need some work (since it is missing for a significant portion), and other data cleanup simplifies the data problem a little."
   ]
  },
  {
   "cell_type": "code",
   "execution_count": 32,
   "metadata": {
    "collapsed": false
   },
   "outputs": [
    {
     "data": {
      "text/html": [
       "<div>\n",
       "<table border=\"1\" class=\"dataframe\">\n",
       "  <thead>\n",
       "    <tr style=\"text-align: right;\">\n",
       "      <th></th>\n",
       "      <th>survived</th>\n",
       "      <th>pclass</th>\n",
       "      <th>name</th>\n",
       "      <th>sex</th>\n",
       "      <th>age</th>\n",
       "      <th>sibsp</th>\n",
       "      <th>parch</th>\n",
       "      <th>ticket</th>\n",
       "      <th>fare</th>\n",
       "      <th>cabin</th>\n",
       "      <th>embarked</th>\n",
       "      <th>is_male</th>\n",
       "    </tr>\n",
       "  </thead>\n",
       "  <tbody>\n",
       "    <tr>\n",
       "      <th>0</th>\n",
       "      <td>0</td>\n",
       "      <td>3</td>\n",
       "      <td>Braund, Mr. Owen Harris</td>\n",
       "      <td>male</td>\n",
       "      <td>22.0</td>\n",
       "      <td>1</td>\n",
       "      <td>0</td>\n",
       "      <td>A/5 21171</td>\n",
       "      <td>7.2500</td>\n",
       "      <td>NaN</td>\n",
       "      <td>S</td>\n",
       "      <td>1</td>\n",
       "    </tr>\n",
       "    <tr>\n",
       "      <th>1</th>\n",
       "      <td>1</td>\n",
       "      <td>1</td>\n",
       "      <td>Cumings, Mrs. John Bradley (Florence Briggs Th...</td>\n",
       "      <td>female</td>\n",
       "      <td>38.0</td>\n",
       "      <td>1</td>\n",
       "      <td>0</td>\n",
       "      <td>PC 17599</td>\n",
       "      <td>71.2833</td>\n",
       "      <td>C85</td>\n",
       "      <td>C</td>\n",
       "      <td>0</td>\n",
       "    </tr>\n",
       "    <tr>\n",
       "      <th>2</th>\n",
       "      <td>1</td>\n",
       "      <td>3</td>\n",
       "      <td>Heikkinen, Miss. Laina</td>\n",
       "      <td>female</td>\n",
       "      <td>26.0</td>\n",
       "      <td>0</td>\n",
       "      <td>0</td>\n",
       "      <td>STON/O2. 3101282</td>\n",
       "      <td>7.9250</td>\n",
       "      <td>NaN</td>\n",
       "      <td>S</td>\n",
       "      <td>0</td>\n",
       "    </tr>\n",
       "    <tr>\n",
       "      <th>3</th>\n",
       "      <td>1</td>\n",
       "      <td>1</td>\n",
       "      <td>Futrelle, Mrs. Jacques Heath (Lily May Peel)</td>\n",
       "      <td>female</td>\n",
       "      <td>35.0</td>\n",
       "      <td>1</td>\n",
       "      <td>0</td>\n",
       "      <td>113803</td>\n",
       "      <td>53.1000</td>\n",
       "      <td>C123</td>\n",
       "      <td>S</td>\n",
       "      <td>0</td>\n",
       "    </tr>\n",
       "    <tr>\n",
       "      <th>4</th>\n",
       "      <td>0</td>\n",
       "      <td>3</td>\n",
       "      <td>Allen, Mr. William Henry</td>\n",
       "      <td>male</td>\n",
       "      <td>35.0</td>\n",
       "      <td>0</td>\n",
       "      <td>0</td>\n",
       "      <td>373450</td>\n",
       "      <td>8.0500</td>\n",
       "      <td>NaN</td>\n",
       "      <td>S</td>\n",
       "      <td>1</td>\n",
       "    </tr>\n",
       "  </tbody>\n",
       "</table>\n",
       "</div>"
      ],
      "text/plain": [
       "   survived  pclass                                               name  \\\n",
       "0         0       3                            Braund, Mr. Owen Harris   \n",
       "1         1       1  Cumings, Mrs. John Bradley (Florence Briggs Th...   \n",
       "2         1       3                             Heikkinen, Miss. Laina   \n",
       "3         1       1       Futrelle, Mrs. Jacques Heath (Lily May Peel)   \n",
       "4         0       3                           Allen, Mr. William Henry   \n",
       "\n",
       "      sex   age  sibsp  parch            ticket     fare cabin embarked  \\\n",
       "0    male  22.0      1      0         A/5 21171   7.2500   NaN        S   \n",
       "1  female  38.0      1      0          PC 17599  71.2833   C85        C   \n",
       "2  female  26.0      0      0  STON/O2. 3101282   7.9250   NaN        S   \n",
       "3  female  35.0      1      0            113803  53.1000  C123        S   \n",
       "4    male  35.0      0      0            373450   8.0500   NaN        S   \n",
       "\n",
       "   is_male  \n",
       "0        1  \n",
       "1        0  \n",
       "2        0  \n",
       "3        0  \n",
       "4        1  "
      ]
     },
     "execution_count": 32,
     "metadata": {},
     "output_type": "execute_result"
    }
   ],
   "source": [
    "titanic = pd.read_csv(DATA_DIR / 'titanic.csv')\n",
    "\n",
    "# Transform male/female to 1/0\n",
    "titanic['is_male'] = titanic.sex.apply(lambda x: 1 if x == 'male' else 0)\n",
    "\n",
    "titanic.head()"
   ]
  },
  {
   "cell_type": "code",
   "execution_count": 40,
   "metadata": {
    "collapsed": true
   },
   "outputs": [],
   "source": [
    "titanic['rhys'] = 1"
   ]
  },
  {
   "cell_type": "code",
   "execution_count": 83,
   "metadata": {
    "collapsed": false
   },
   "outputs": [
    {
     "data": {
      "text/plain": [
       "LogisticRegression(C=1.0, class_weight=None, dual=False, fit_intercept=True,\n",
       "          intercept_scaling=1, max_iter=100, multi_class='ovr', n_jobs=1,\n",
       "          penalty='l2', random_state=None, solver='liblinear', tol=0.0001,\n",
       "          verbose=0, warm_start=False)"
      ]
     },
     "execution_count": 83,
     "metadata": {},
     "output_type": "execute_result"
    }
   ],
   "source": [
    "# Here is a simple logistic regression. Output of logistic regression is log odds.\n",
    "\n",
    "lr = LogisticRegression()\n",
    "X = titanic[['is_male']]  # try putting other feature(s) in here\n",
    "y = titanic['survived']\n",
    "lr.fit(X, y)"
   ]
  },
  {
   "cell_type": "code",
   "execution_count": 84,
   "metadata": {
    "collapsed": false,
    "scrolled": true
   },
   "outputs": [
    {
     "name": "stdout",
     "output_type": "stream",
     "text": [
      "[[-2.43010712]]\n",
      "[ 1.00027876]\n",
      "0.786756453423\n",
      "0.383838383838\n",
      "0.383838383838\n"
     ]
    }
   ],
   "source": [
    "# Find out how to print out the log-reg coefficients, intercept and mean survival rate\n",
    "# Docs: http://scikit-learn.org/stable/modules/generated/sklearn.linear_model.LogisticRegression.html\n",
    "print lr.coef_\n",
    "print lr.intercept_\n",
    "print lr.score(X,y)\n",
    "print titanic['survived'].mean()\n",
    "print y.mean()\n"
   ]
  },
  {
   "cell_type": "code",
   "execution_count": 79,
   "metadata": {
    "collapsed": false
   },
   "outputs": [
    {
     "name": "stdout",
     "output_type": "stream",
     "text": [
      "[[ 0.0880274]]\n"
     ]
    }
   ],
   "source": [
    "# Print out the odds for each coefficient\n",
    "print np.exp(lr.coef_) #gives odds"
   ]
  },
  {
   "cell_type": "markdown",
   "metadata": {},
   "source": [
    "Your chances of surviving as a male are (chances of female * 0.0880274)"
   ]
  },
  {
   "cell_type": "code",
   "execution_count": 72,
   "metadata": {
    "collapsed": false
   },
   "outputs": [
    {
     "data": {
      "text/plain": [
       "11.363636363636365"
      ]
     },
     "execution_count": 72,
     "metadata": {},
     "output_type": "execute_result"
    }
   ],
   "source": [
    "1/0.088   # You are 11 times more likely to survive as a female!"
   ]
  },
  {
   "cell_type": "code",
   "execution_count": 81,
   "metadata": {
    "collapsed": false
   },
   "outputs": [
    {
     "name": "stdout",
     "output_type": "stream",
     "text": [
      "[[ 0.0880274]]\n",
      "[[ 0.23935]]\n",
      "[[ 0.19312543]]\n",
      "[ 0.73111338]\n",
      "survived     0.188908\n",
      "pclass       2.389948\n",
      "age         30.726645\n",
      "sibsp        0.429809\n",
      "parch        0.235702\n",
      "fare        25.523893\n",
      "is_male      1.000000\n",
      "rhys         1.000000\n",
      "dtype: float64\n"
     ]
    }
   ],
   "source": [
    "# Intercept is survival rate for base class\n",
    "# \n",
    "\n",
    "# Print out the odds for each coefficient - from Stu\n",
    "#two ways to calculate odds ratio - one using the \n",
    "print np.exp(lr.coef_)\n",
    "print np.exp(lr.intercept_ + lr.coef_) #odds of male survival\n",
    "print sigmoid_func(lr.intercept_ + lr.coef_) #probability of male survival (by setting x=1, sigmoid(alpha + beta * 1))\n",
    "print sigmoid_func(lr.intercept_) # Probability suviving as a female\n",
    "\n",
    "print titanic[titanic.is_male == 1].mean()"
   ]
  },
  {
   "cell_type": "markdown",
   "metadata": {},
   "source": [
    "## Slide: \"Evaluating logistic regression with alternative metrics\"\n",
    "This Titanic dataset comes from [Kaggle](https://www.kaggle.com/c/titanic).\n",
    "\n",
    "Spend a few minutes determining which data would be most important to use in the prediction problem. You may need to create new features based on the data available. Consider using a feature selection aide in sklearn. For a worst case scenario, identify one or two strong features that would be useful to include in this model.\n",
    "\n",
    "\n",
    "1. Spend 1-2 minutes considering which metric makes the most sense to optimise. Accuracy? FPR or TPR? AUC? Given the \"business problem\" of understanding survival rate aboard the Titanic, why should you use this metric?\n",
    "\n",
    "2. Build a tuned logistic regression model. Be prepared to explain your design (including regularisation), choice of metric, and your chosen feature set in predicting survival using any tools necessary (such as fit charts). Use the starter code to get you going.\n",
    "\n",
    "N.B. If you haven't done it yet, `age` will need some work (since it is missing for a significant portion), and other data cleanup simplifies the data problem a little."
   ]
  },
  {
   "cell_type": "code",
   "execution_count": null,
   "metadata": {
    "collapsed": false
   },
   "outputs": [],
   "source": [
    "# Here's some code for fitting a model and creating an ROC\n",
    "lr = LogisticRegression()\n",
    "X = titanic[['is_male']]  # put your other feature(s) in here\n",
    "y = titanic['survived']\n",
    "lr.fit(X, y)\n",
    "\n",
    "predictions = lr.predict(X)\n",
    "probabilities = lr.predict_proba(X)\n",
    "plt.plot(roc_curve(titanic[['survived']], probabilities[:,1])[0],\n",
    "         roc_curve(titanic[['survived']], probabilities[:,1])[1])"
   ]
  },
  {
   "cell_type": "code",
   "execution_count": null,
   "metadata": {
    "collapsed": false
   },
   "outputs": [],
   "source": [
    "# To understand this a little further, try printing these in turn\n",
    "#titanic[['survived']]\n",
    "#probabilities\n",
    "#probabilities[:,1]\n",
    "roc_curve(titanic[['survived']], probabilities[:,1])\n",
    "#print roc_curve(titanic[['survived']], probabilities[:,1])[0]\n",
    "#print roc_curve(titanic[['survived']], probabilities[:,1])[1]"
   ]
  },
  {
   "cell_type": "markdown",
   "metadata": {},
   "source": [
    "The ROC curve above is based on various probability thresholds (for 'is_male' there's only one thing we can vary, hence one point, joined to (0,0) and (1,1)). This will become more clear if you subtitute e.g. age (after you've cleaned it up!)"
   ]
  },
  {
   "cell_type": "code",
   "execution_count": null,
   "metadata": {
    "collapsed": false
   },
   "outputs": [],
   "source": [
    "plt.plot(roc_curve(titanic[['survived']], predictions)[0],\n",
    "         roc_curve(titanic[['survived']], predictions)[1])"
   ]
  },
  {
   "cell_type": "markdown",
   "metadata": {},
   "source": [
    "This chart, which does not play with thresholds, shows the one true TPR and FPR point, joined to 0,0 and 1,1.\n",
    "\n",
    "The first chart will be more effective as you compare models and determine where the decision line should exist for the data. The second simplifies the first in case this idea of thresholds is confusing."
   ]
  },
  {
   "cell_type": "code",
   "execution_count": null,
   "metadata": {
    "collapsed": false
   },
   "outputs": [],
   "source": [
    "# Finally, you can use the `roc_auc_score` function to calculate the area under these curves (AUC).\n",
    "roc_auc_score(titanic['survived'], lr.predict(X))"
   ]
  },
  {
   "cell_type": "code",
   "execution_count": null,
   "metadata": {
    "collapsed": true
   },
   "outputs": [],
   "source": [
    "# ..."
   ]
  }
 ],
 "metadata": {
  "anaconda-cloud": {},
  "kernelspec": {
   "display_name": "Python [conda root]",
   "language": "python",
   "name": "conda-root-py"
  },
  "language_info": {
   "codemirror_mode": {
    "name": "ipython",
    "version": 2
   },
   "file_extension": ".py",
   "mimetype": "text/x-python",
   "name": "python",
   "nbconvert_exporter": "python",
   "pygments_lexer": "ipython2",
   "version": "2.7.12"
  }
 },
 "nbformat": 4,
 "nbformat_minor": 0
}
