{
 "cells": [
  {
   "cell_type": "markdown",
   "metadata": {},
   "source": [
    "# Lesson 5: Intro To Regression Analysis\n",
    "## Starter code for guided practice & demos"
   ]
  },
  {
   "cell_type": "code",
   "execution_count": 1,
   "metadata": {
    "collapsed": false
   },
   "outputs": [],
   "source": [
    "# Usual imports\n",
    "from matplotlib import pyplot as plt\n",
    "import numpy as np\n",
    "import pandas as pd\n",
    "\n",
    "# New dataviz library!\n",
    "import seaborn as sns  # may need to `conda install seaborn` or `pip install seaborn`"
   ]
  },
  {
   "cell_type": "code",
   "execution_count": 2,
   "metadata": {
    "collapsed": true
   },
   "outputs": [],
   "source": [
    "# Plot matplotlib plots & set the seaborn plotting style/size\n",
    "%matplotlib inline\n",
    "sns.set_style(\"darkgrid\")\n",
    "plt.rcParams['figure.figsize'] = (5,5)"
   ]
  },
  {
   "cell_type": "code",
   "execution_count": 3,
   "metadata": {
    "collapsed": false
   },
   "outputs": [
    {
     "name": "stdout",
     "output_type": "stream",
     "text": [
      "DATA_DIR: ../datasets\n",
      "CSV filepath: ../datasets/msleep.csv\n"
     ]
    }
   ],
   "source": [
    "# We're going to use pathlib for relative paths to our datasets folder (this is a built-in library in Python3)\n",
    "# If running this line throws an error, may need to do: `pip install pathlib` from CLI\n",
    "# For more info see: https://pypi.python.org/pypi/pathlib/\n",
    "from pathlib import Path\n",
    "DATA_DIR = Path('../datasets')                            # You can hardcode a data dir here, e.g. \"~/Dropbox/GA/data/\"\n",
    "print \"DATA_DIR:\", DATA_DIR\n",
    "print \"CSV filepath:\", DATA_DIR / 'msleep.csv'  # pathlib resolves this to OS-relative path to '../../datasets/DAT-8/msleep.csv'"
   ]
  },
  {
   "cell_type": "markdown",
   "metadata": {},
   "source": [
    "## Demo: Regression and normal distributions"
   ]
  },
  {
   "cell_type": "code",
   "execution_count": 4,
   "metadata": {
    "collapsed": false
   },
   "outputs": [
    {
     "data": {
      "text/html": [
       "<div>\n",
       "<table border=\"1\" class=\"dataframe\">\n",
       "  <thead>\n",
       "    <tr style=\"text-align: right;\">\n",
       "      <th></th>\n",
       "      <th>name</th>\n",
       "      <th>genus</th>\n",
       "      <th>vore</th>\n",
       "      <th>order</th>\n",
       "      <th>conservation</th>\n",
       "      <th>sleep_total</th>\n",
       "      <th>sleep_rem</th>\n",
       "      <th>sleep_cycle</th>\n",
       "      <th>awake</th>\n",
       "      <th>brainwt</th>\n",
       "      <th>bodywt</th>\n",
       "    </tr>\n",
       "  </thead>\n",
       "  <tbody>\n",
       "    <tr>\n",
       "      <th>0</th>\n",
       "      <td>Cheetah</td>\n",
       "      <td>Acinonyx</td>\n",
       "      <td>carni</td>\n",
       "      <td>Carnivora</td>\n",
       "      <td>lc</td>\n",
       "      <td>12.1</td>\n",
       "      <td>NaN</td>\n",
       "      <td>NaN</td>\n",
       "      <td>11.9</td>\n",
       "      <td>NaN</td>\n",
       "      <td>50.000</td>\n",
       "    </tr>\n",
       "    <tr>\n",
       "      <th>1</th>\n",
       "      <td>Owl monkey</td>\n",
       "      <td>Aotus</td>\n",
       "      <td>omni</td>\n",
       "      <td>Primates</td>\n",
       "      <td>NaN</td>\n",
       "      <td>17.0</td>\n",
       "      <td>1.8</td>\n",
       "      <td>NaN</td>\n",
       "      <td>7.0</td>\n",
       "      <td>0.01550</td>\n",
       "      <td>0.480</td>\n",
       "    </tr>\n",
       "    <tr>\n",
       "      <th>2</th>\n",
       "      <td>Mountain beaver</td>\n",
       "      <td>Aplodontia</td>\n",
       "      <td>herbi</td>\n",
       "      <td>Rodentia</td>\n",
       "      <td>nt</td>\n",
       "      <td>14.4</td>\n",
       "      <td>2.4</td>\n",
       "      <td>NaN</td>\n",
       "      <td>9.6</td>\n",
       "      <td>NaN</td>\n",
       "      <td>1.350</td>\n",
       "    </tr>\n",
       "    <tr>\n",
       "      <th>3</th>\n",
       "      <td>Greater short-tailed shrew</td>\n",
       "      <td>Blarina</td>\n",
       "      <td>omni</td>\n",
       "      <td>Soricomorpha</td>\n",
       "      <td>lc</td>\n",
       "      <td>14.9</td>\n",
       "      <td>2.3</td>\n",
       "      <td>0.133333</td>\n",
       "      <td>9.1</td>\n",
       "      <td>0.00029</td>\n",
       "      <td>0.019</td>\n",
       "    </tr>\n",
       "    <tr>\n",
       "      <th>4</th>\n",
       "      <td>Cow</td>\n",
       "      <td>Bos</td>\n",
       "      <td>herbi</td>\n",
       "      <td>Artiodactyla</td>\n",
       "      <td>domesticated</td>\n",
       "      <td>4.0</td>\n",
       "      <td>0.7</td>\n",
       "      <td>0.666667</td>\n",
       "      <td>20.0</td>\n",
       "      <td>0.42300</td>\n",
       "      <td>600.000</td>\n",
       "    </tr>\n",
       "  </tbody>\n",
       "</table>\n",
       "</div>"
      ],
      "text/plain": [
       "                         name       genus   vore         order  conservation  \\\n",
       "0                     Cheetah    Acinonyx  carni     Carnivora            lc   \n",
       "1                  Owl monkey       Aotus   omni      Primates           NaN   \n",
       "2             Mountain beaver  Aplodontia  herbi      Rodentia            nt   \n",
       "3  Greater short-tailed shrew     Blarina   omni  Soricomorpha            lc   \n",
       "4                         Cow         Bos  herbi  Artiodactyla  domesticated   \n",
       "\n",
       "   sleep_total  sleep_rem  sleep_cycle  awake  brainwt   bodywt  \n",
       "0         12.1        NaN          NaN   11.9      NaN   50.000  \n",
       "1         17.0        1.8          NaN    7.0  0.01550    0.480  \n",
       "2         14.4        2.4          NaN    9.6      NaN    1.350  \n",
       "3         14.9        2.3     0.133333    9.1  0.00029    0.019  \n",
       "4          4.0        0.7     0.666667   20.0  0.42300  600.000  "
      ]
     },
     "execution_count": 4,
     "metadata": {},
     "output_type": "execute_result"
    }
   ],
   "source": [
    "# Read in the mammal dataset\n",
    "mammals = pd.read_csv(str(DATA_DIR / 'msleep.csv'))\n",
    "mammals.head()"
   ]
  },
  {
   "cell_type": "code",
   "execution_count": 5,
   "metadata": {
    "collapsed": true
   },
   "outputs": [],
   "source": [
    "# Remove rows where `brainwt` is missing\n",
    "mammals_where_brainwt_missing = mammals.brainwt.notnull()\n",
    "mammals = mammals[mammals_where_brainwt_missing].copy()"
   ]
  },
  {
   "cell_type": "markdown",
   "metadata": {},
   "source": [
    "### Explore our mammals dataset"
   ]
  },
  {
   "cell_type": "code",
   "execution_count": null,
   "metadata": {
    "collapsed": false
   },
   "outputs": [],
   "source": [
    "mammals.head()"
   ]
  },
  {
   "cell_type": "markdown",
   "metadata": {},
   "source": [
    "### Lets check out a scatter plot of body weight and brain weight"
   ]
  },
  {
   "cell_type": "code",
   "execution_count": 6,
   "metadata": {
    "collapsed": false
   },
   "outputs": [
    {
     "data": {
      "image/png": "[encoded data removed]",
      "text/plain": [
       "<matplotlib.figure.Figure at 0x114c40950>"
      ]
     },
     "metadata": {},
     "output_type": "display_data"
    }
   ],
   "source": [
    "# Create a matplotlib figure\n",
    "plt.figure()\n",
    "# Generate a scatterplot inside the figure\n",
    "plt.plot(mammals.bodywt, mammals.brainwt, '.')\n",
    "# Show the plot\n",
    "plt.show()"
   ]
  },
  {
   "cell_type": "code",
   "execution_count": 7,
   "metadata": {
    "collapsed": false
   },
   "outputs": [
    {
     "data": {
      "text/plain": [
       "<seaborn.axisgrid.FacetGrid at 0x1170fbc90>"
      ]
     },
     "execution_count": 7,
     "metadata": {},
     "output_type": "execute_result"
    },
    {
     "data": {
      "image/png": "[encoded data removed]",
      "text/plain": [
       "<matplotlib.figure.Figure at 0x1170fb850>"
      ]
     },
     "metadata": {},
     "output_type": "display_data"
    }
   ],
   "source": [
    "# Do it using the Seaborn library!\n",
    "# https://web.stanford.edu/~mwaskom/software/seaborn/generated/seaborn.lmplot.html\n",
    "sns.lmplot('bodywt', 'brainwt', mammals)"
   ]
  },
  {
   "cell_type": "markdown",
   "metadata": {},
   "source": [
    "Notice:\n",
    "1. The lmplot() function returns a straight line. That is why it is a linear solution. If we had multiple variables, the solution would be a linear plane.\n",
    "2. The linear solution does explain a portion of the data well, but because both \"bodywt\" and \"brainwt\" are log-log distributions, outliers have a large impact on the gradient of the linear solution. We can see this from the wide and inconsistently shaped confidence intervals that seaborn's lmplot generates."
   ]
  },
  {
   "cell_type": "code",
   "execution_count": null,
   "metadata": {
    "collapsed": false
   },
   "outputs": [],
   "source": [
    "# bodywt and brainwt look like they may not be normally distributed, let's check that\n",
    "fig, axs = plt.subplots(2,1)\n",
    "sns.distplot(mammals['bodywt'], color='red', ax=axs[0])\n",
    "sns.distplot(mammals['brainwt'], color='green', ax=axs[1])"
   ]
  },
  {
   "cell_type": "markdown",
   "metadata": {},
   "source": [
    "Because both variables are a log-log distribution, some properties of the underlying maths allow us to transform them into normal distributions. Then, we can solve for the linear regression!"
   ]
  },
  {
   "cell_type": "code",
   "execution_count": null,
   "metadata": {
    "collapsed": false
   },
   "outputs": [],
   "source": [
    "# Let's try log-transforming bodywt and brainwt\n",
    "log_columns = ['bodywt', 'brainwt']\n",
    "log_mammals = mammals.copy()\n",
    "log_mammals[log_columns] = log_mammals[log_columns].apply(np.log10)"
   ]
  },
  {
   "cell_type": "code",
   "execution_count": 12,
   "metadata": {
    "collapsed": false
   },
   "outputs": [
    {
     "ename": "NameError",
     "evalue": "name 'log_mammals' is not defined",
     "output_type": "error",
     "traceback": [
      "\u001b[0;31m---------------------------------------------------------------------------\u001b[0m",
      "\u001b[0;31mNameError\u001b[0m                                 Traceback (most recent call last)",
      "\u001b[0;32m<ipython-input-12-2b8cdb12ff6d>\u001b[0m in \u001b[0;36m<module>\u001b[0;34m()\u001b[0m\n\u001b[1;32m      1\u001b[0m \u001b[0;31m# This looks better\u001b[0m\u001b[0;34m\u001b[0m\u001b[0;34m\u001b[0m\u001b[0m\n\u001b[1;32m      2\u001b[0m \u001b[0mfig\u001b[0m\u001b[0;34m,\u001b[0m \u001b[0maxs\u001b[0m \u001b[0;34m=\u001b[0m \u001b[0mplt\u001b[0m\u001b[0;34m.\u001b[0m\u001b[0msubplots\u001b[0m\u001b[0;34m(\u001b[0m\u001b[0;36m2\u001b[0m\u001b[0;34m,\u001b[0m\u001b[0;36m1\u001b[0m\u001b[0;34m)\u001b[0m\u001b[0;34m\u001b[0m\u001b[0m\n\u001b[0;32m----> 3\u001b[0;31m \u001b[0msns\u001b[0m\u001b[0;34m.\u001b[0m\u001b[0mdistplot\u001b[0m\u001b[0;34m(\u001b[0m\u001b[0mlog_mammals\u001b[0m\u001b[0;34m[\u001b[0m\u001b[0;34m'bodywt'\u001b[0m\u001b[0;34m]\u001b[0m\u001b[0;34m,\u001b[0m \u001b[0mcolor\u001b[0m\u001b[0;34m=\u001b[0m\u001b[0;34m'red'\u001b[0m\u001b[0;34m,\u001b[0m \u001b[0max\u001b[0m\u001b[0;34m=\u001b[0m\u001b[0maxs\u001b[0m\u001b[0;34m[\u001b[0m\u001b[0;36m0\u001b[0m\u001b[0;34m]\u001b[0m\u001b[0;34m)\u001b[0m\u001b[0;34m\u001b[0m\u001b[0m\n\u001b[0m\u001b[1;32m      4\u001b[0m \u001b[0msns\u001b[0m\u001b[0;34m.\u001b[0m\u001b[0mdistplot\u001b[0m\u001b[0;34m(\u001b[0m\u001b[0mlog_mammals\u001b[0m\u001b[0;34m[\u001b[0m\u001b[0;34m'brainwt'\u001b[0m\u001b[0;34m]\u001b[0m\u001b[0;34m,\u001b[0m \u001b[0mcolor\u001b[0m\u001b[0;34m=\u001b[0m\u001b[0;34m'green'\u001b[0m\u001b[0;34m,\u001b[0m \u001b[0max\u001b[0m\u001b[0;34m=\u001b[0m\u001b[0maxs\u001b[0m\u001b[0;34m[\u001b[0m\u001b[0;36m1\u001b[0m\u001b[0;34m]\u001b[0m\u001b[0;34m)\u001b[0m\u001b[0;34m\u001b[0m\u001b[0m\n",
      "\u001b[0;31mNameError\u001b[0m: name 'log_mammals' is not defined"
     ]
    },
    {
     "data": {
      "image/png": "[encoded data removed]",
      "text/plain": [
       "<matplotlib.figure.Figure at 0x118b66f90>"
      ]
     },
     "metadata": {},
     "output_type": "display_data"
    }
   ],
   "source": [
    "# This looks better\n",
    "fig, axs = plt.subplots(2,1)\n",
    "sns.distplot(log_mammals['bodywt'], color='red', ax=axs[0])\n",
    "sns.distplot(log_mammals['brainwt'], color='green', ax=axs[1])"
   ]
  },
  {
   "cell_type": "code",
   "execution_count": null,
   "metadata": {
    "collapsed": false
   },
   "outputs": [],
   "source": [
    "# Look at the log-transformed scatter\n",
    "sns.lmplot(x='bodywt', y='brainwt', data=log_mammals)"
   ]
  },
  {
   "cell_type": "markdown",
   "metadata": {},
   "source": [
    "N.B. Even though we changed the way the data was shaped, this is still a linear result: it's just linear in the log10 of the data, instead of in the data's natural state."
   ]
  },
  {
   "cell_type": "markdown",
   "metadata": {},
   "source": [
    "## Guided Practice: Using seaborn to generate single variable linear model plots\n",
    "Update and complete the code below to use lmplot and display correlations between body weight and two dependent variables: sleep_rem and awake."
   ]
  },
  {
   "cell_type": "code",
   "execution_count": null,
   "metadata": {
    "collapsed": false
   },
   "outputs": [],
   "source": [
    "log_columns = ['bodywt', 'brainwt','sleep_rem','awake']  # any others?\n",
    "log_mammals = mammals.copy()\n",
    "log_mammals[log_columns] = log_mammals[log_columns].apply(np.log10)\n",
    "\n",
    "# Add code here to create two graphs displaying correlations between sleep_rem and awake (as y) and body weight (as x)\n",
    "sns.lmplot(x='bodywt', y='sleep_rem', data=log_mammals)\n",
    "sns.lmplot(x='bodywt', y='sleep_rem', data=log_mammals)"
   ]
  },
  {
   "cell_type": "markdown",
   "metadata": {},
   "source": [
    "## Introduction: Single Regression Analysis in statsmodels & scikit-learn"
   ]
  },
  {
   "cell_type": "code",
   "execution_count": null,
   "metadata": {
    "collapsed": false
   },
   "outputs": [],
   "source": [
    "# This is the standard import if you're using \"formula notation\" (similar to R)\n",
    "import statsmodels.formula.api as smf\n",
    "\n",
    "X = mammals[['bodywt']]\n",
    "y = mammals['brainwt']"
   ]
  },
  {
   "cell_type": "code",
   "execution_count": null,
   "metadata": {
    "collapsed": false
   },
   "outputs": [],
   "source": [
    "# note difference between mammals[['bodywt']] (returns a DataFrame)\n",
    "print type(X)\n",
    "X.head()"
   ]
  },
  {
   "cell_type": "code",
   "execution_count": null,
   "metadata": {
    "collapsed": false
   },
   "outputs": [],
   "source": [
    "# ... and mammals['bodywt'] (returns a Series)\n",
    "print type(y)\n",
    "y.head()"
   ]
  },
  {
   "cell_type": "code",
   "execution_count": null,
   "metadata": {
    "collapsed": false
   },
   "outputs": [],
   "source": [
    "# Create a fitted model in one line with the following syntax formula:\n",
    "#     outcome ~ predictor1 + predictor2 ... predictorN\n",
    "\n",
    "lm = smf.ols(formula='y ~ X', data=mammals).fit()\n",
    "\n",
    "# Print the full linear model summary\n",
    "lm.summary()"
   ]
  },
  {
   "cell_type": "markdown",
   "metadata": {},
   "source": [
    "#### Use Statsmodels to make the prediction for a mammal with bodyweight = 50"
   ]
  },
  {
   "cell_type": "code",
   "execution_count": null,
   "metadata": {
    "collapsed": false
   },
   "outputs": [],
   "source": [
    "# You have to create a DataFrame since the Statsmodels formula interface expects it\n",
    "X_new = pd.DataFrame({'X': [50]})\n",
    "X_new.head()"
   ]
  },
  {
   "cell_type": "code",
   "execution_count": null,
   "metadata": {
    "collapsed": false
   },
   "outputs": [],
   "source": [
    "lm.predict(X_new)"
   ]
  },
  {
   "cell_type": "markdown",
   "metadata": {},
   "source": [
    "### Repeat in scikit-learn with handy plotting"
   ]
  },
  {
   "cell_type": "markdown",
   "metadata": {},
   "source": [
    "When modelling with sklearn, you'll use the following basic principles:\n",
    "\n",
    "- All sklearn estimators (modelling classes) are follow the same \"base estimator\" design. This allows you to easily rotate through estimators without changing much code.\n",
    "- All estimators take a matrix X (can be either sparse or dense).\n",
    "- Many estimators also take a vector of outcome labels, y, when working on a supervised machine learning problem. Regressions are supervised learning because we already have examples of our outcome variable y for every row in X.\n",
    "- All estimators have parameters that can be set. This allows for customization and higher level of detail to the learning process. The parameters are unique to each estimator algorithm.\n",
    "- Finally, note the convention of capital letters for a matrix (e.g. X) vs lower case for a vector (e.g. y)."
   ]
  },
  {
   "cell_type": "code",
   "execution_count": null,
   "metadata": {
    "collapsed": false
   },
   "outputs": [],
   "source": [
    "# Online documentation is very handy! http://scikit-learn.org/stable/modules/linear_model.html\n",
    "from sklearn import feature_selection, linear_model\n",
    "\n",
    "# Create matrix of features (only one used for now) + vector of outcome labels\n",
    "X = mammals[['bodywt']]\n",
    "y = mammals['brainwt']\n",
    "\n",
    "# Create instance of LinearRegression class and fit model to the data\n",
    "lm = linear_model.LinearRegression()\n",
    "lm.fit(X, y)\n",
    "\n",
    "# Ignore warning"
   ]
  },
  {
   "cell_type": "code",
   "execution_count": null,
   "metadata": {
    "collapsed": false
   },
   "outputs": [],
   "source": [
    "# lm is just a \"LinearRegression\" object\n",
    "lm"
   ]
  },
  {
   "cell_type": "code",
   "execution_count": null,
   "metadata": {
    "collapsed": false
   },
   "outputs": [],
   "source": [
    "# coefs\n",
    "print \"lm.coef_\"\n",
    "print lm.coef_"
   ]
  },
  {
   "cell_type": "code",
   "execution_count": null,
   "metadata": {
    "collapsed": false
   },
   "outputs": [],
   "source": [
    "# residuals\n",
    "print \"residuals\"\n",
    "print (y - lm.predict(X)).values"
   ]
  },
  {
   "cell_type": "code",
   "execution_count": 6,
   "metadata": {
    "collapsed": false
   },
   "outputs": [],
   "source": [
    "# Let's wrap this into a function that's model-independent\n",
    "\n",
    "def get_linear_model_metrics(X, y, algo):\n",
    "    \"\"\"\n",
    "    Get the p-value of X given y, ignore f-stat for now\n",
    "    \"\"\"\n",
    "    pvals = feature_selection.f_regression(X, y)[1]\n",
    "    # Start with an empty linear regression object\n",
    "    # .fit() runs the linear regression function on X and y\n",
    "    algo.fit(X,y)\n",
    "    residuals = (y - algo.predict(X)).values\n",
    "\n",
    "    # Print the necessary values\n",
    "    print 'P Values:', pvals\n",
    "    print 'Coefficients:', algo.coef_\n",
    "    print 'y-intercept:', algo.intercept_\n",
    "    print 'R-Squared:', algo.score(X,y)\n",
    "\n",
    "    # Visualise distribution of the residuals\n",
    "    plt.figure()\n",
    "    plt.hist(residuals, bins=np.ceil(np.sqrt(len(y))))\n",
    "    plt.title(\"Distribution of residuals\")\n",
    "    \n",
    "    # Keep the model\n",
    "    return algo\n"
   ]
  },
  {
   "cell_type": "code",
   "execution_count": null,
   "metadata": {
    "collapsed": false
   },
   "outputs": [],
   "source": [
    "# Let's try it out by building a linear model representing brainwt ~ bodywt\n",
    "# (remember this model is represented as: `brainwt = bodywt * coefficient + intercept`)\n",
    "X = mammals[['bodywt']]\n",
    "y = mammals['brainwt']\n",
    "\n",
    "# Let's visualise this model too\n",
    "sns.lmplot(x='bodywt', y='brainwt', data=mammals, ci=None)\n",
    "plt.title(\"Linear model on untransformed data: brainwt ~ bodywt\")\n",
    "\n",
    "lm = linear_model.LinearRegression()\n",
    "lm = get_linear_model_metrics(X, y, lm)  # note how lm object is passed into the function, then returned"
   ]
  },
  {
   "cell_type": "markdown",
   "metadata": {},
   "source": [
    "## Demo: Significance is Key"
   ]
  },
  {
   "cell_type": "markdown",
   "metadata": {},
   "source": [
    "### What does our output tell us?"
   ]
  },
  {
   "cell_type": "markdown",
   "metadata": {},
   "source": [
    "Answer: The relationship between bodywt and brainwt is significant\n",
    "The model explains roughly 87%  of the variance in the dataset\n",
    "With the current model, brainwt is roughly bodywt * 0.00096395\n",
    "Specifically, brainwt = 0.00096395 * brainwt + 0.0859\n",
    "The residuals are not normally districuted (there are outliers). A better fit will have residuals that look normally distributed"
   ]
  },
  {
   "cell_type": "markdown",
   "metadata": {},
   "source": [
    "### Evaluating Fit, Evaluating Sense"
   ]
  },
  {
   "cell_type": "markdown",
   "metadata": {},
   "source": [
    "Although we know there is a better solution to the model, we should evaluate some other \"common sense\" things first. For example, given this model, what is an animal's brainwt if their bodywt is 0?"
   ]
  },
  {
   "cell_type": "code",
   "execution_count": null,
   "metadata": {
    "collapsed": false
   },
   "outputs": [],
   "source": [
    "# What's the prediction at 0? Does it make sense?\n",
    "print lm.predict([[0]])"
   ]
  },
  {
   "cell_type": "code",
   "execution_count": null,
   "metadata": {
    "collapsed": false
   },
   "outputs": [],
   "source": [
    "# A mammal with zero body weight should also have zero brain weight!\n",
    "\n",
    "# Let's force the intercept to be zero & retrain the model\n",
    "lm = linear_model.LinearRegression(fit_intercept=False)\n",
    "lm = get_linear_model_metrics(X, y, lm)"
   ]
  },
  {
   "cell_type": "code",
   "execution_count": null,
   "metadata": {
    "collapsed": false
   },
   "outputs": [],
   "source": [
    "# What's the prediction at 0 now?\n",
    "print lm.predict([[0]])"
   ]
  },
  {
   "cell_type": "markdown",
   "metadata": {},
   "source": [
    "### Intrepretation\n",
    "With linear modeling we call this part of the linear assumption. Consider it a test to the model. If an animal's body weights nothing, we expect their brain to be nonexistent. That given, we can improve the model by telling sklearn's LinearRegression object we do not want to fit a y intercept.\n",
    "\n",
    "Now, the model fits where brainwt = 0, bodywt = 0.\n",
    "Because we start at 0, the large outliers have a greater effect, so the coefficient has increased.\n",
    "Fitting with this assumption also results in a model that explains slightly less of the variance."
   ]
  },
  {
   "cell_type": "markdown",
   "metadata": {},
   "source": [
    "## Guided Practice: Using the LinearRegression object\n",
    "\n",
    "We learned earlier that the data in its current state does not allow for the best linear regression fit. \n",
    "\n",
    "With a partner, generate two more models using the log-transformed data to see how this transform changes the model's performance.\n",
    "\n",
    "Complete the following code to update X and y to match the log-transformed data. Complete the loop by setting the list to be one True and one False."
   ]
  },
  {
   "cell_type": "code",
   "execution_count": null,
   "metadata": {
    "collapsed": false
   },
   "outputs": [],
   "source": [
    "# Starter\n",
    "X = mammals[['bodywt']].apply(np.log10)\n",
    "y = mammals['brainwt'].apply(np.log10)\n",
    "loop = [True, False]\n",
    "for boolean in loop:\n",
    "    print 'y-intercept:', boolean\n",
    "    lm = linear_model.LinearRegression(fit_intercept=boolean)\n",
    "    get_linear_model_metrics(X, y, lm)\n",
    "    print"
   ]
  },
  {
   "cell_type": "markdown",
   "metadata": {},
   "source": [
    "### Which model performed the best? The worst? Why?\n"
   ]
  },
  {
   "cell_type": "markdown",
   "metadata": {},
   "source": [
    "Answer: Log data, fit_intercept = True. Reason: Good R Squared, normally distributed residuals"
   ]
  },
  {
   "cell_type": "markdown",
   "metadata": {},
   "source": [
    "> For more information on how scikit-learn's LinearRegression calculates R-squared, see:\n",
    "> http://scikit-learn.org/stable/modules/generated/sklearn.linear_model.LinearRegression.html#sklearn.linear_model.LinearRegression.score\n",
    "> \n",
    "> _\"Best possible R^2 score is 1.0 and it can be negative (because the model can be arbitrarily worse). A constant model that always predicts the expected value of y, disregarding the input features, would get a R^2 score of 0.0._"
   ]
  },
  {
   "cell_type": "markdown",
   "metadata": {},
   "source": [
    "## Demo: Advanced linear regression techniques\n",
    "We will go over different estimators in detail in the future but check it out in the docs if you're curious (and finish a little early)."
   ]
  },
  {
   "cell_type": "code",
   "execution_count": null,
   "metadata": {
    "collapsed": false
   },
   "outputs": [],
   "source": [
    "# Loading other sklearn regression estimators\n",
    "X = log_mammals[['bodywt']]\n",
    "y = log_mammals['brainwt']\n",
    "\n",
    "# Docs = http://scikit-learn.org/stable/modules/linear_model.html\n",
    "estimators = [\n",
    "    linear_model.Lasso(),\n",
    "    linear_model.Ridge(),\n",
    "    linear_model.ElasticNet(),\n",
    "]\n",
    "\n",
    "for est in estimators:\n",
    "    print est\n",
    "    get_linear_model_metrics(X, y, est)\n",
    "    print \"\\n\\n\""
   ]
  },
  {
   "cell_type": "markdown",
   "metadata": {},
   "source": [
    "## Demo: Multiple regression analysis with citibike data"
   ]
  },
  {
   "cell_type": "markdown",
   "metadata": {},
   "source": [
    "In the previous example, one variable explained the variance of another; however, more often than not, we will need multiple variables. \n",
    "\n",
    "For example, a house's price may be best measured by square feet, but a lot of other variables play a vital role: bedrooms, bathrooms, location, appliances, etc. \n",
    "\n",
    "For a linear regression, we want these variables to be largely independent of each other, but all of them should help explain the y variable.\n",
    "\n",
    "We'll work with bikeshare data to showcase what this means and to explain a concept called multicollinearity.\n",
    "\n",
    "For more details on this dataset, including a data dictionary, please see: https://archive.ics.uci.edu/ml/datasets/Bike+Sharing+Dataset"
   ]
  },
  {
   "cell_type": "code",
   "execution_count": 14,
   "metadata": {
    "collapsed": false
   },
   "outputs": [
    {
     "data": {
      "text/html": [
       "<div>\n",
       "<table border=\"1\" class=\"dataframe\">\n",
       "  <thead>\n",
       "    <tr style=\"text-align: right;\">\n",
       "      <th></th>\n",
       "      <th>instant</th>\n",
       "      <th>dteday</th>\n",
       "      <th>season</th>\n",
       "      <th>yr</th>\n",
       "      <th>mnth</th>\n",
       "      <th>hr</th>\n",
       "      <th>holiday</th>\n",
       "      <th>weekday</th>\n",
       "      <th>workingday</th>\n",
       "      <th>weathersit</th>\n",
       "      <th>temp</th>\n",
       "      <th>atemp</th>\n",
       "      <th>hum</th>\n",
       "      <th>windspeed</th>\n",
       "      <th>casual</th>\n",
       "      <th>registered</th>\n",
       "      <th>cnt</th>\n",
       "    </tr>\n",
       "  </thead>\n",
       "  <tbody>\n",
       "    <tr>\n",
       "      <th>0</th>\n",
       "      <td>1</td>\n",
       "      <td>2011-01-01</td>\n",
       "      <td>1</td>\n",
       "      <td>0</td>\n",
       "      <td>1</td>\n",
       "      <td>0</td>\n",
       "      <td>0</td>\n",
       "      <td>6</td>\n",
       "      <td>0</td>\n",
       "      <td>1</td>\n",
       "      <td>0.24</td>\n",
       "      <td>0.2879</td>\n",
       "      <td>0.81</td>\n",
       "      <td>0.0</td>\n",
       "      <td>3</td>\n",
       "      <td>13</td>\n",
       "      <td>16</td>\n",
       "    </tr>\n",
       "    <tr>\n",
       "      <th>1</th>\n",
       "      <td>2</td>\n",
       "      <td>2011-01-01</td>\n",
       "      <td>1</td>\n",
       "      <td>0</td>\n",
       "      <td>1</td>\n",
       "      <td>1</td>\n",
       "      <td>0</td>\n",
       "      <td>6</td>\n",
       "      <td>0</td>\n",
       "      <td>1</td>\n",
       "      <td>0.22</td>\n",
       "      <td>0.2727</td>\n",
       "      <td>0.80</td>\n",
       "      <td>0.0</td>\n",
       "      <td>8</td>\n",
       "      <td>32</td>\n",
       "      <td>40</td>\n",
       "    </tr>\n",
       "    <tr>\n",
       "      <th>2</th>\n",
       "      <td>3</td>\n",
       "      <td>2011-01-01</td>\n",
       "      <td>1</td>\n",
       "      <td>0</td>\n",
       "      <td>1</td>\n",
       "      <td>2</td>\n",
       "      <td>0</td>\n",
       "      <td>6</td>\n",
       "      <td>0</td>\n",
       "      <td>1</td>\n",
       "      <td>0.22</td>\n",
       "      <td>0.2727</td>\n",
       "      <td>0.80</td>\n",
       "      <td>0.0</td>\n",
       "      <td>5</td>\n",
       "      <td>27</td>\n",
       "      <td>32</td>\n",
       "    </tr>\n",
       "    <tr>\n",
       "      <th>3</th>\n",
       "      <td>4</td>\n",
       "      <td>2011-01-01</td>\n",
       "      <td>1</td>\n",
       "      <td>0</td>\n",
       "      <td>1</td>\n",
       "      <td>3</td>\n",
       "      <td>0</td>\n",
       "      <td>6</td>\n",
       "      <td>0</td>\n",
       "      <td>1</td>\n",
       "      <td>0.24</td>\n",
       "      <td>0.2879</td>\n",
       "      <td>0.75</td>\n",
       "      <td>0.0</td>\n",
       "      <td>3</td>\n",
       "      <td>10</td>\n",
       "      <td>13</td>\n",
       "    </tr>\n",
       "    <tr>\n",
       "      <th>4</th>\n",
       "      <td>5</td>\n",
       "      <td>2011-01-01</td>\n",
       "      <td>1</td>\n",
       "      <td>0</td>\n",
       "      <td>1</td>\n",
       "      <td>4</td>\n",
       "      <td>0</td>\n",
       "      <td>6</td>\n",
       "      <td>0</td>\n",
       "      <td>1</td>\n",
       "      <td>0.24</td>\n",
       "      <td>0.2879</td>\n",
       "      <td>0.75</td>\n",
       "      <td>0.0</td>\n",
       "      <td>0</td>\n",
       "      <td>1</td>\n",
       "      <td>1</td>\n",
       "    </tr>\n",
       "  </tbody>\n",
       "</table>\n",
       "</div>"
      ],
      "text/plain": [
       "   instant      dteday  season  yr  mnth  hr  holiday  weekday  workingday  \\\n",
       "0        1  2011-01-01       1   0     1   0        0        6           0   \n",
       "1        2  2011-01-01       1   0     1   1        0        6           0   \n",
       "2        3  2011-01-01       1   0     1   2        0        6           0   \n",
       "3        4  2011-01-01       1   0     1   3        0        6           0   \n",
       "4        5  2011-01-01       1   0     1   4        0        6           0   \n",
       "\n",
       "   weathersit  temp   atemp   hum  windspeed  casual  registered  cnt  \n",
       "0           1  0.24  0.2879  0.81        0.0       3          13   16  \n",
       "1           1  0.22  0.2727  0.80        0.0       8          32   40  \n",
       "2           1  0.22  0.2727  0.80        0.0       5          27   32  \n",
       "3           1  0.24  0.2879  0.75        0.0       3          10   13  \n",
       "4           1  0.24  0.2879  0.75        0.0       0           1    1  "
      ]
     },
     "execution_count": 14,
     "metadata": {},
     "output_type": "execute_result"
    }
   ],
   "source": [
    "bike_data = pd.read_csv(str(DATA_DIR / 'bikeshare.csv'))\n",
    "bike_data.head()"
   ]
  },
  {
   "cell_type": "markdown",
   "metadata": {},
   "source": [
    "### What is multicollinearity?\n",
    "\n",
    "With the bike share data, let's compare three data points: actual temperature (**`temp`**), \"feel\" temperature (**`atemp`**), and guest ridership (**`casual`**).\n",
    "\n",
    "Our data is already normalized between 0 and 1, so we'll start off with the correlations and modelling."
   ]
  },
  {
   "cell_type": "code",
   "execution_count": null,
   "metadata": {
    "collapsed": false
   },
   "outputs": [],
   "source": [
    "colour_map = sns.diverging_palette(220, 10, as_cmap=True)\n",
    "\n",
    "correlations = bike_data[['temp', 'atemp', 'casual']].corr()\n",
    "print correlations\n",
    "print sns.heatmap(correlations, cmap=colour_map)"
   ]
  },
  {
   "cell_type": "markdown",
   "metadata": {},
   "source": [
    "#### The correlation matrix explains that:\n",
    "\n",
    "- both temperature fields are somewhat correlated to guest ridership (corr approx 0.5 isn't high, but not low either)\n",
    "- the two temperature fields are highly correlated to each other.\n",
    "\n",
    "\n",
    "Including both of these fields in a model could introduce a pain point of multicollinearity, where it's more difficult for a model to determine which feature is affecting the predicted value."
   ]
  },
  {
   "cell_type": "markdown",
   "metadata": {},
   "source": [
    "### We can measure this effect in the coefficients:"
   ]
  },
  {
   "cell_type": "code",
   "execution_count": null,
   "metadata": {
    "collapsed": false
   },
   "outputs": [],
   "source": [
    "y = bike_data['casual']\n",
    "x_sets = (\n",
    "    ['temp'],\n",
    "    ['atemp'],\n",
    "    ['temp', 'atemp'],\n",
    ")\n",
    "\n",
    "for x in x_sets:\n",
    "    print 'Model: casual ~ ' + ' + '.join(x)\n",
    "    get_linear_model_metrics(bike_data[x], y, linear_model.LinearRegression())\n",
    "    print"
   ]
  },
  {
   "cell_type": "markdown",
   "metadata": {},
   "source": [
    "###  Intrepretation: \n",
    "Even though the 2-variable model (**`casual ~ temp + atemp`**) has a higher explanation of variance than two variables on their own, and both variables are considered significant (p values approaching 0), we can see that together, their coefficients are wildly different. \n",
    "\n",
    "This can introduce error in how we explain models."
   ]
  },
  {
   "cell_type": "markdown",
   "metadata": {},
   "source": [
    "### What happens if we use a second variable that isn't highly correlated with temperature, like humidity?\n"
   ]
  },
  {
   "cell_type": "code",
   "execution_count": null,
   "metadata": {
    "collapsed": false
   },
   "outputs": [],
   "source": [
    "print sns.heatmap(bike_data[['temp', 'hum', 'casual']].corr(),\n",
    "                  cmap=colour_map)\n",
    "\n",
    "y = bike_data['casual']\n",
    "x = bike_data[['temp', 'hum']]\n",
    "get_linear_model_metrics(x, y, linear_model.LinearRegression())"
   ]
  },
  {
   "cell_type": "markdown",
   "metadata": {},
   "source": [
    "While temperature's coefficient is higher, the logical output still makes sense: for guest riders we expected a positive relationship with temperature and a negative relationship with humidity, and our model suggests it as well."
   ]
  },
  {
   "cell_type": "markdown",
   "metadata": {},
   "source": [
    "## Guided Practice: Multicollinearity with dummy variables"
   ]
  },
  {
   "cell_type": "markdown",
   "metadata": {},
   "source": [
    "There can be a similar effect from a feature set that is a singular matrix. This happens is when there is a clear relationship in the matrix (for example, the sum of all rows = 1).\n",
    "\n",
    "### Run through the following code on your own.\n",
    "#### What happens to the coefficients when you include all weather situations instead of just including all except one?"
   ]
  },
  {
   "cell_type": "code",
   "execution_count": null,
   "metadata": {
    "collapsed": false
   },
   "outputs": [],
   "source": [
    "# From https://archive.ics.uci.edu/ml/datasets/Bike+Sharing+Dataset\n",
    "# weathersit : \n",
    "# - 1: Clear, Few clouds, Partly cloudy, Partly cloudy\n",
    "# - 2: Mist + Cloudy, Mist + Broken clouds, Mist + Few clouds, Mist\n",
    "# - 3: Light Snow, Light Rain + Thunderstorm + Scattered clouds, Light Rain + Scattered clouds\n",
    "# - 4: Heavy Rain + Ice Pallets + Thunderstorm + Mist, Snow + Fog\n",
    "weather = pd.get_dummies(bike_data.weathersit)\n",
    "print weather[:20]\n",
    "bike_data[:20]"
   ]
  },
  {
   "cell_type": "code",
   "execution_count": null,
   "metadata": {
    "collapsed": false
   },
   "outputs": [],
   "source": [
    "# Model casual by all weather situations as dummy variables\n",
    "lm = linear_model.LinearRegression()\n",
    "get_linear_model_metrics(weather[[1, 2, 3, 4]], y, lm)"
   ]
  },
  {
   "cell_type": "code",
   "execution_count": null,
   "metadata": {
    "collapsed": false
   },
   "outputs": [],
   "source": [
    "# Drop the least significant: weather situation  = 4\n",
    "get_linear_model_metrics(weather[[1, 2, 3]], y, lm)"
   ]
  },
  {
   "cell_type": "markdown",
   "metadata": {},
   "source": [
    "### Similar in Statsmodels"
   ]
  },
  {
   "cell_type": "code",
   "execution_count": null,
   "metadata": {
    "collapsed": false
   },
   "outputs": [],
   "source": [
    "# All dummies in the model\n",
    "lm_stats = smf.ols(formula='y ~ weather[[1, 2, 3, 4]]', data=bike_data).fit()\n",
    "lm_stats.summary()"
   ]
  },
  {
   "cell_type": "code",
   "execution_count": null,
   "metadata": {
    "collapsed": false
   },
   "outputs": [],
   "source": [
    "# Drop one\n",
    "lm_stats = smf.ols(formula='y ~ weather[[1, 2, 3]]', data=bike_data).fit()\n",
    "lm_stats.summary()"
   ]
  },
  {
   "cell_type": "markdown",
   "metadata": {},
   "source": [
    "### What's the interpretation ? Do you want to keep all your dummy variables or drop one? Why? \n",
    "\n",
    "\n"
   ]
  },
  {
   "cell_type": "markdown",
   "metadata": {},
   "source": [
    "Answer: "
   ]
  },
  {
   "cell_type": "markdown",
   "metadata": {},
   "source": [
    "## Guided Practice: Combining non-correlated features into a better model"
   ]
  },
  {
   "cell_type": "code",
   "execution_count": null,
   "metadata": {
    "collapsed": false
   },
   "outputs": [],
   "source": [
    "bike_data.dtypes"
   ]
  },
  {
   "cell_type": "markdown",
   "metadata": {},
   "source": [
    "### With a partner, complete this code together and visualize the correlations of all the numerical features built into the data set.\n",
    "\n",
    "We want to:\n",
    "\n",
    "- Add the three significant weather situations into our current model.\n",
    "- Find two more features that are not correlated with current features, but could be strong indicators for predicting guest riders."
   ]
  },
  {
   "cell_type": "code",
   "execution_count": null,
   "metadata": {
    "collapsed": false
   },
   "outputs": [],
   "source": [
    "# Starter \n",
    "lm = linear_model.LinearRegression()\n",
    "weather_dummies = pd.get_dummies(bike_data.weathersit, prefix='Weathersit').iloc[:, 1:]\n",
    "hour_dummies = pd.get_dummies(bike_data.hr, prefix='Hour').iloc[:, 1:]\n",
    "\n",
    "#bikemodel_data = pd.concat([bike_data, weather_dummies, hour_dummies], axis=1)\n",
    "# print bikemodel_data[:20]\n",
    "print bikemodel_data.dtypes\n",
    "\n",
    "colour_map = sns.diverging_palette(220, 10, as_cmap=True)\n",
    "correlations = bike_data[['temp', 'hum', 'windspeed', 'casual']].corr()\n",
    "print correlations\n",
    "print sns.heatmap(correlations, cmap=colour_map)\n",
    "\n",
    "columns_to_keep = ['temp', 'hum', 'windspeed', 'Weathersit_2', 'Weathersit_3', 'Weathersit_4',\n",
    "                  'Hour_1', 'Hour_2', 'Hour_3', 'Hour_4', 'Hour_5', 'Hour_6', 'Hour_7',\n",
    "                   'Hour_8', 'Hour_9', 'Hour_10', 'Hour_11', 'Hour_12', 'Hour_13', 'Hour_14', \n",
    "                   'Hour_15', 'Hour_16', 'Hour_17',\n",
    "                   'Hour_18', 'Hour_19', 'Hour_20', 'Hour_21', 'Hour_22',\n",
    "                   'Hour_23']  #[which variables?]\n",
    "final_feature_set = bikemodel_data[columns_to_keep]\n",
    "\n",
    "get_linear_model_metrics(final_feature_set, y, lm)\n"
   ]
  },
  {
   "cell_type": "code",
   "execution_count": null,
   "metadata": {
    "collapsed": false
   },
   "outputs": [],
   "source": [
    "# Using sklearn + log-transformed y\n",
    "final_feature_set = bikemodel_data[columns_to_keep]\n",
    "get_linear_model_metrics(final_feature_set, np.log10(y + 1), lm)"
   ]
  },
  {
   "cell_type": "code",
   "execution_count": null,
   "metadata": {
    "collapsed": false
   },
   "outputs": [],
   "source": [
    "# Using Statsmodels + log-transformed y\n",
    "log_y = np.log10(y + 1)\n",
    "lm = smf.ols(formula='log_y ~ temp + hum + windspeed + weather_1 + weather_2 + weather_3 + holiday + hour_1 + hour_2 + hour_3 + hour_4 + hour_5 + hour_6 + hour_7 + hour_8 + hour_9 + hour_10 + hour_11 + hour_12 + hour_13 + hour_14 + hour_15 + hour_16 + hour_18 + hour_19 + hour_20 + hour_21 + hour_22 + hour_23', data=bikemodel_data).fit()\n",
    "# Print the full summary\n",
    "lm.summary()"
   ]
  },
  {
   "cell_type": "markdown",
   "metadata": {},
   "source": [
    "## Independent Practice / Homework: Building models for other y variables\n",
    "\n",
    "We've completed a model together that explains casual guest riders. Now it's your turn to build another model, using a different y variable: registered riders.\n",
    "\n",
    "#### Pay attention to:\n",
    "\n",
    "* the distribution of riders (should we rescale the data?)\n",
    "* checking correlations with variables and registered riders\n",
    "* having a feature space (our matrix) with low multicollinearity\n",
    "* model complexity vs explanation of variance: at what point do features in a model stop improving r-squared?\n",
    "* the linear assumption -- given all feature values being 0, should we have no ridership? negative ridership? positive ridership?\n",
    "\n",
    "#### Bonus\n",
    "\n",
    "* Which variables would make sense to dummy (because they are categorical, not continuous)?\n",
    "* What features might explain ridership but aren't included in the data set?\n",
    "* Is there a way to build these using pandas and the features available?\n",
    "* Outcomes: If your model at least improves upon the original model and the explanatory effects (coefficients) make sense, consider this a complete task.\n",
    "\n",
    "### If your model for registered riders has an r-squared above .4, this a relatively effective model for the data available. Kudos!"
   ]
  },
  {
   "cell_type": "code",
   "execution_count": 7,
   "metadata": {
    "collapsed": false
   },
   "outputs": [
    {
     "name": "stdout",
     "output_type": "stream",
     "text": [
      "    instant      dteday  season  yr  mnth  hr  holiday  weekday  workingday  \\\n",
      "0         1  2011-01-01       1   0     1   0        0        6           0   \n",
      "1         2  2011-01-01       1   0     1   1        0        6           0   \n",
      "2         3  2011-01-01       1   0     1   2        0        6           0   \n",
      "3         4  2011-01-01       1   0     1   3        0        6           0   \n",
      "4         5  2011-01-01       1   0     1   4        0        6           0   \n",
      "5         6  2011-01-01       1   0     1   5        0        6           0   \n",
      "6         7  2011-01-01       1   0     1   6        0        6           0   \n",
      "7         8  2011-01-01       1   0     1   7        0        6           0   \n",
      "8         9  2011-01-01       1   0     1   8        0        6           0   \n",
      "9        10  2011-01-01       1   0     1   9        0        6           0   \n",
      "10       11  2011-01-01       1   0     1  10        0        6           0   \n",
      "11       12  2011-01-01       1   0     1  11        0        6           0   \n",
      "12       13  2011-01-01       1   0     1  12        0        6           0   \n",
      "13       14  2011-01-01       1   0     1  13        0        6           0   \n",
      "14       15  2011-01-01       1   0     1  14        0        6           0   \n",
      "15       16  2011-01-01       1   0     1  15        0        6           0   \n",
      "16       17  2011-01-01       1   0     1  16        0        6           0   \n",
      "17       18  2011-01-01       1   0     1  17        0        6           0   \n",
      "18       19  2011-01-01       1   0     1  18        0        6           0   \n",
      "19       20  2011-01-01       1   0     1  19        0        6           0   \n",
      "\n",
      "    weathersit      ...       Hour_15  Hour_16  Hour_17  Hour_18  Hour_19  \\\n",
      "0            1      ...           0.0      0.0      0.0      0.0      0.0   \n",
      "1            1      ...           0.0      0.0      0.0      0.0      0.0   \n",
      "2            1      ...           0.0      0.0      0.0      0.0      0.0   \n",
      "3            1      ...           0.0      0.0      0.0      0.0      0.0   \n",
      "4            1      ...           0.0      0.0      0.0      0.0      0.0   \n",
      "5            2      ...           0.0      0.0      0.0      0.0      0.0   \n",
      "6            1      ...           0.0      0.0      0.0      0.0      0.0   \n",
      "7            1      ...           0.0      0.0      0.0      0.0      0.0   \n",
      "8            1      ...           0.0      0.0      0.0      0.0      0.0   \n",
      "9            1      ...           0.0      0.0      0.0      0.0      0.0   \n",
      "10           1      ...           0.0      0.0      0.0      0.0      0.0   \n",
      "11           1      ...           0.0      0.0      0.0      0.0      0.0   \n",
      "12           1      ...           0.0      0.0      0.0      0.0      0.0   \n",
      "13           2      ...           0.0      0.0      0.0      0.0      0.0   \n",
      "14           2      ...           0.0      0.0      0.0      0.0      0.0   \n",
      "15           2      ...           1.0      0.0      0.0      0.0      0.0   \n",
      "16           2      ...           0.0      1.0      0.0      0.0      0.0   \n",
      "17           2      ...           0.0      0.0      1.0      0.0      0.0   \n",
      "18           3      ...           0.0      0.0      0.0      1.0      0.0   \n",
      "19           3      ...           0.0      0.0      0.0      0.0      1.0   \n",
      "\n",
      "    Hour_20  Hour_21  Hour_22  Hour_23  workingday_1  \n",
      "0       0.0      0.0      0.0      0.0           0.0  \n",
      "1       0.0      0.0      0.0      0.0           0.0  \n",
      "2       0.0      0.0      0.0      0.0           0.0  \n",
      "3       0.0      0.0      0.0      0.0           0.0  \n",
      "4       0.0      0.0      0.0      0.0           0.0  \n",
      "5       0.0      0.0      0.0      0.0           0.0  \n",
      "6       0.0      0.0      0.0      0.0           0.0  \n",
      "7       0.0      0.0      0.0      0.0           0.0  \n",
      "8       0.0      0.0      0.0      0.0           0.0  \n",
      "9       0.0      0.0      0.0      0.0           0.0  \n",
      "10      0.0      0.0      0.0      0.0           0.0  \n",
      "11      0.0      0.0      0.0      0.0           0.0  \n",
      "12      0.0      0.0      0.0      0.0           0.0  \n",
      "13      0.0      0.0      0.0      0.0           0.0  \n",
      "14      0.0      0.0      0.0      0.0           0.0  \n",
      "15      0.0      0.0      0.0      0.0           0.0  \n",
      "16      0.0      0.0      0.0      0.0           0.0  \n",
      "17      0.0      0.0      0.0      0.0           0.0  \n",
      "18      0.0      0.0      0.0      0.0           0.0  \n",
      "19      0.0      0.0      0.0      0.0           0.0  \n",
      "\n",
      "[20 rows x 44 columns]\n",
      "instant           int64\n",
      "dteday           object\n",
      "season            int64\n",
      "yr                int64\n",
      "mnth              int64\n",
      "hr                int64\n",
      "holiday           int64\n",
      "weekday           int64\n",
      "workingday        int64\n",
      "weathersit        int64\n",
      "temp            float64\n",
      "atemp           float64\n",
      "hum             float64\n",
      "windspeed       float64\n",
      "casual            int64\n",
      "registered        int64\n",
      "cnt               int64\n",
      "Weathersit_2    float64\n",
      "Weathersit_3    float64\n",
      "Weathersit_4    float64\n",
      "Hour_1          float64\n",
      "Hour_2          float64\n",
      "Hour_3          float64\n",
      "Hour_4          float64\n",
      "Hour_5          float64\n",
      "Hour_6          float64\n",
      "Hour_7          float64\n",
      "Hour_8          float64\n",
      "Hour_9          float64\n",
      "Hour_10         float64\n",
      "Hour_11         float64\n",
      "Hour_12         float64\n",
      "Hour_13         float64\n",
      "Hour_14         float64\n",
      "Hour_15         float64\n",
      "Hour_16         float64\n",
      "Hour_17         float64\n",
      "Hour_18         float64\n",
      "Hour_19         float64\n",
      "Hour_20         float64\n",
      "Hour_21         float64\n",
      "Hour_22         float64\n",
      "Hour_23         float64\n",
      "workingday_1    float64\n",
      "dtype: object\n",
      "                temp       hum  windspeed  registered\n",
      "temp        1.000000 -0.069881  -0.023125    0.335361\n",
      "hum        -0.069881  1.000000  -0.290105   -0.273933\n",
      "windspeed  -0.023125 -0.290105   1.000000    0.082321\n",
      "registered  0.335361 -0.273933   0.082321    1.000000\n",
      "Axes(0.125,0.125;0.62x0.775)\n",
      "P Values: [  0.00000000e+000   1.01368000e-296   1.60231470e-027   2.05227213e-005\n",
      "   4.73056490e-052   3.47324456e-001   2.52258509e-119   1.23025770e-134\n",
      "   2.56184449e-149   1.48570542e-157   2.84656070e-134   2.06243524e-050\n",
      "   7.78198029e-018   9.57149132e-253   2.86677506e-010   1.28849609e-006\n",
      "   3.45440857e-001   1.26369141e-008   5.02304407e-007   3.45897517e-002\n",
      "   3.97554501e-005   7.03294514e-054   0.00000000e+000   0.00000000e+000\n",
      "   1.28503913e-088   5.31461410e-011   7.64578871e-002   3.67111667e-016\n",
      "   9.95311548e-050   8.83608168e-071]\n",
      "Coefficients: [ 185.24155009  -51.66190689  -38.98595492   -4.36107686  -53.88736629\n",
      "  -65.5829817   -14.56450966  -21.77533461  -29.76008061  -31.43019864\n",
      "  -17.56060938   37.58891323  166.19985218  297.81157388  143.12127495\n",
      "   75.38102401   90.18422432  122.4260507   115.06527073   96.98360933\n",
      "  107.40203966  170.38232155  322.41216075  302.56690231  204.57804192\n",
      "  135.97146272   92.98442733   60.76904219   27.64849576   40.436028  ]\n",
      "y-intercept: -23.4932118318\n",
      "R-Squared: 0.603744170848\n"
     ]
    },
    {
     "name": "stderr",
     "output_type": "stream",
     "text": [
      "/Users/rhyscater/anaconda/lib/python2.7/site-packages/numpy/lib/function_base.py:564: VisibleDeprecationWarning: using a non-integer number instead of an integer will result in an error in the future\n",
      "  n = np.zeros(bins, ntype)\n",
      "/Users/rhyscater/anaconda/lib/python2.7/site-packages/numpy/lib/function_base.py:611: VisibleDeprecationWarning: using a non-integer number instead of an integer will result in an error in the future\n",
      "  n += np.bincount(indices, weights=tmp_w, minlength=bins).astype(ntype)\n"
     ]
    },
    {
     "data": {
      "text/plain": [
       "LinearRegression(copy_X=True, fit_intercept=True, n_jobs=1, normalize=False)"
      ]
     },
     "execution_count": 7,
     "metadata": {},
     "output_type": "execute_result"
    },
    {
     "data": {
      "image/png": "[encoded data removed]",
      "text/plain": [
       "<matplotlib.figure.Figure at 0x119fd3590>"
      ]
     },
     "metadata": {},
     "output_type": "display_data"
    },
    {
     "data": {
      "image/png": "[encoded data removed]",
      "text/plain": [
       "<matplotlib.figure.Figure at 0x10c3e18d0>"
      ]
     },
     "metadata": {},
     "output_type": "display_data"
    }
   ],
   "source": [
    "# Model away!\n",
    "bike_data = pd.read_csv(str(DATA_DIR / 'bikeshare.csv'))\n",
    "\n",
    "from sklearn import feature_selection, linear_model\n",
    "\n",
    "# Starter \n",
    "lm = linear_model.LinearRegression()\n",
    "y = bike_data['registered']\n",
    "weather_dummies = pd.get_dummies(bike_data.weathersit, prefix='Weathersit').iloc[:, 1:]\n",
    "hour_dummies = pd.get_dummies(bike_data.hr, prefix='Hour').iloc[:, 1:]\n",
    "workingday_dummies = pd.get_dummies(bike_data.workingday, prefix='workingday').iloc[:, 1:]\n",
    "\n",
    "\n",
    "bikemodel_data = pd.concat([bike_data, weather_dummies, hour_dummies, workingday_dummies], axis=1)\n",
    "print bikemodel_data[:20]\n",
    "print bikemodel_data.dtypes\n",
    "\n",
    "colour_map = sns.diverging_palette(220, 10, as_cmap=True)\n",
    "correlations = bike_data[['temp', 'hum', 'windspeed', 'registered']].corr()\n",
    "print correlations\n",
    "print sns.heatmap(correlations, cmap=colour_map)\n",
    "\n",
    "columns_to_keep = ['temp', 'hum', 'windspeed', 'Weathersit_2', 'Weathersit_3', 'Weathersit_4',\n",
    "                  'Hour_1', 'Hour_2', 'Hour_3', 'Hour_4', 'Hour_5', 'Hour_6', 'Hour_7',\n",
    "                   'Hour_8', 'Hour_9', 'Hour_10', 'Hour_11', 'Hour_12', 'Hour_13', 'Hour_14', \n",
    "                   'Hour_15', 'Hour_16', 'Hour_17',\n",
    "                   'Hour_18', 'Hour_19', 'Hour_20', 'Hour_21', 'Hour_22',\n",
    "                   'Hour_23', 'workingday_1']  #[which variables?]\n",
    "final_feature_set = bikemodel_data[columns_to_keep]\n",
    "\n",
    "get_linear_model_metrics(final_feature_set, y, lm)\n",
    "\n"
   ]
  },
  {
   "cell_type": "code",
   "execution_count": 8,
   "metadata": {
    "collapsed": false,
    "scrolled": true
   },
   "outputs": [
    {
     "name": "stdout",
     "output_type": "stream",
     "text": [
      "P Values: [  0.00000000e+000   0.00000000e+000   4.03672389e-052   7.41985069e-002\n",
      "   1.81611717e-052   5.78302135e-001   3.17877790e-189   0.00000000e+000\n",
      "   0.00000000e+000   0.00000000e+000   8.69207390e-247   4.72724349e-027\n",
      "   8.34309970e-016   4.47200263e-099   4.83948275e-047   4.04824373e-011\n",
      "   4.99938357e-021   2.12255834e-044   1.78421129e-042   1.30222997e-031\n",
      "   4.01174012e-039   7.78246894e-082   1.73028284e-168   1.67335076e-152\n",
      "   6.41626171e-090   4.37903898e-043   1.96091360e-017   1.40458515e-003\n",
      "   4.48814810e-007   1.54475939e-011]\n",
      "Coefficients: [ 0.6712003  -0.0963271  -0.15163163 -0.00812185 -0.23142618 -0.07999922\n",
      " -0.26386895 -0.47306194 -0.67956233 -0.78671941 -0.34030928  0.1612956\n",
      "  0.57598568  0.84637392  0.68278284  0.49238061  0.53392643  0.62240995\n",
      "  0.60460997  0.55583124  0.58513204  0.72092207  0.91376491  0.89344618\n",
      "  0.76950898  0.64506913  0.53606119  0.42724569  0.25642903  0.05301339]\n",
      "y-intercept: 1.29169740848\n",
      "R-Squared: 0.767872482664\n"
     ]
    },
    {
     "data": {
      "text/plain": [
       "LinearRegression(copy_X=True, fit_intercept=True, n_jobs=1, normalize=False)"
      ]
     },
     "execution_count": 8,
     "metadata": {},
     "output_type": "execute_result"
    },
    {
     "data": {
      "image/png": "[encoded data removed]",
      "text/plain": [
       "<matplotlib.figure.Figure at 0x119fd1d90>"
      ]
     },
     "metadata": {},
     "output_type": "display_data"
    }
   ],
   "source": [
    "# Using sklearn + log-transformed y\n",
    "final_feature_set = bikemodel_data[columns_to_keep]\n",
    "get_linear_model_metrics(final_feature_set, np.log10(y + 1), lm)"
   ]
  },
  {
   "cell_type": "markdown",
   "metadata": {},
   "source": [
    "# Why logged data?\n",
    "\n",
    "Lots of human behaviour follows a loglog distribution.\n",
    "\n",
    "Check the distribution of the y alone. Looks log normal.\n",
    "\n",
    "Logged y looks more normally distributed."
   ]
  },
  {
   "cell_type": "code",
   "execution_count": 32,
   "metadata": {
    "collapsed": false
   },
   "outputs": [
    {
     "name": "stdout",
     "output_type": "stream",
     "text": [
      "Axes(0.125,0.125;0.775x0.775)\n"
     ]
    },
    {
     "data": {
      "image/png": "[encoded data removed]",
      "text/plain": [
       "<matplotlib.figure.Figure at 0x11a568910>"
      ]
     },
     "metadata": {},
     "output_type": "display_data"
    }
   ],
   "source": [
    "bike_data = pd.read_csv(str(DATA_DIR / 'bikeshare.csv'))\n",
    "\n",
    "# print sns.lmplot('registered', 'temp', bike_data)\n",
    "\n",
    "#fig, axs = plt.subplots(2,1)\n",
    "print sns.distplot(bike_data['registered'], color='red')\n",
    "#sns.distplot(bike_data['temp'], color='green', ax=axs[1])"
   ]
  },
  {
   "cell_type": "code",
   "execution_count": 21,
   "metadata": {
    "collapsed": true
   },
   "outputs": [],
   "source": [
    "log_columns = ['registered', 'temp']\n",
    "log_bikes = bike_data.copy()\n",
    "log_bikes[log_columns] = np.log10(log_bikes[log_columns] + 1)"
   ]
  },
  {
   "cell_type": "code",
   "execution_count": 34,
   "metadata": {
    "collapsed": false
   },
   "outputs": [
    {
     "data": {
      "text/plain": [
       "<matplotlib.axes._subplots.AxesSubplot at 0x11a9136d0>"
      ]
     },
     "execution_count": 34,
     "metadata": {},
     "output_type": "execute_result"
    },
    {
     "data": {
      "image/png": "[encoded data removed]",
      "text/plain": [
       "<matplotlib.figure.Figure at 0x11c422050>"
      ]
     },
     "metadata": {},
     "output_type": "display_data"
    }
   ],
   "source": [
    "#sns.lmplot('registered', 'temp', log_bikes)\n",
    "\n",
    "#fig, axs = plt.subplots(2,1)\n",
    "sns.distplot(log_bikes['registered'], color='red')\n",
    "#sns.distplot(log_bikes['temp'], color='green', ax=axs[1])"
   ]
  },
  {
   "cell_type": "code",
   "execution_count": null,
   "metadata": {
    "collapsed": true
   },
   "outputs": [],
   "source": []
  }
 ],
 "metadata": {
  "anaconda-cloud": {},
  "kernelspec": {
   "display_name": "Python [conda root]",
   "language": "python",
   "name": "conda-root-py"
  },
  "language_info": {
   "codemirror_mode": {
    "name": "ipython",
    "version": 2
   },
   "file_extension": ".py",
   "mimetype": "text/x-python",
   "name": "python",
   "nbconvert_exporter": "python",
   "pygments_lexer": "ipython2",
   "version": "2.7.12"
  }
 },
 "nbformat": 4,
 "nbformat_minor": 0
}
